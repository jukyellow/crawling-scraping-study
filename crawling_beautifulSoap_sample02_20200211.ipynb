{
  "nbformat": 4,
  "nbformat_minor": 0,
  "metadata": {
    "colab": {
      "name": "crawling_beautifulSoap_sample02_20200211.ipynb",
      "provenance": [],
      "collapsed_sections": []
    },
    "kernelspec": {
      "name": "python3",
      "display_name": "Python 3"
    }
  },
  "cells": [
    {
      "cell_type": "code",
      "metadata": {
        "id": "QpiQiG52FfiI",
        "colab_type": "code",
        "colab": {}
      },
      "source": [
        "#참고1: https://beomi.github.io/gb-crawling/posts/2017-01-20-HowToMakeWebCrawler.html"
      ],
      "execution_count": 0,
      "outputs": []
    },
    {
      "cell_type": "code",
      "metadata": {
        "id": "5RGe4pbNGqBu",
        "colab_type": "code",
        "colab": {}
      },
      "source": [
        "#참고2:\n",
        "# 2. get contents\n",
        "import requests\n",
        "from bs4 import BeautifulSoup\n",
        "\n",
        "def getReq(URL):\n",
        "    VERIFY = False\n",
        "    req = requests.get(URL, verify=VERIFY)\n",
        "    return req\n",
        "\n",
        "def getPost(URL, data):\n",
        "    VERIFY = False\n",
        "    res = requests.post(URL, data=data, verify=VERIFY) #headers=header, \n",
        "    return res\n",
        "\n",
        "def getSoup(req):\n",
        "    soup = BeautifulSoup(req.content, 'html5lib') #'html.parser'\n",
        "    return soup\n",
        "\n",
        "def checkConn(req):\n",
        "    ## HTTP Header 가져오기\n",
        "    header = req.headers\n",
        "    #print('header:', header)\n",
        "\n",
        "    ## HTTP Status 가져오기 (200: 정상)\n",
        "    status = req.status_code\n",
        "    print('status:', status)\n",
        "\n",
        "    ## HTTP가 정상적으로 되었는지 (True/False)\n",
        "    is_ok = req.ok\n",
        "    #print('is_ok:', is_ok)"
      ],
      "execution_count": 0,
      "outputs": []
    },
    {
      "cell_type": "code",
      "metadata": {
        "id": "HsBcjHbYE4Uy",
        "colab_type": "code",
        "outputId": "f9650a51-7dc3-48ff-e127-20c8decb7c2e",
        "colab": {
          "base_uri": "https://localhost:8080/",
          "height": 451
        }
      },
      "source": [
        "#extract sample\n",
        "req = getReq(URL = 'https://unipass.customs.go.kr/clip/prlstclsfsrch/openULS0203017S.do')\n",
        "checkConn(req)\n",
        "soup = getSoup(req)\n",
        "#print(req.text)\n",
        "\n",
        "# select 함수는 리스트 형태로 전체 반환\n",
        "#select_tag = soup.select('mainarea > div > ul > li.selected > a')\n",
        "select_tag = soup.select('a')\n",
        "print('select_tag:', select_tag)\n",
        "print()\n",
        "\n",
        "## my_titles는 list 객체\n",
        "for title in select_tag:    \n",
        "    print(title.text) ## Tag안의 텍스트    \n",
        "    print(title.get('href')) ## Tag의 속성을 가져오기(ex: href속성)"
      ],
      "execution_count": 113,
      "outputs": [
        {
          "output_type": "stream",
          "text": [
            "/usr/local/lib/python3.6/dist-packages/urllib3/connectionpool.py:847: InsecureRequestWarning: Unverified HTTPS request is being made. Adding certificate verification is strongly advised. See: https://urllib3.readthedocs.io/en/latest/advanced-usage.html#ssl-warnings\n",
            "  InsecureRequestWarning)\n"
          ],
          "name": "stderr"
        },
        {
          "output_type": "stream",
          "text": [
            "status: 200\n",
            "select_tag: [<a class=\"cntyTab\" href=\"/clip/prlstclsfsrch/openULS0203048S.do\">전체</a>, <a class=\"cntyTab\" href=\"/clip/prlstclsfsrch/openULS0203013S.do\">미국</a>, <a class=\"cntyTab\" href=\"/clip/prlstclsfsrch/openULS0203017S.do\">유럽연합(EU)</a>, <a class=\"cntyTab\" href=\"/clip/prlstclsfsrch/openULS0203023S.do\">중국</a>, <a class=\"cntyTab\" href=\"/clip/prlstclsfsrch/openULS0203020S.do\">일본</a>, <a class=\"cntyTab\" href=\"/clip/prlstclsfsrch/openULS0203034S.do\">대만</a>, <a class=\"cntyTab\" href=\"/clip/prlstclsfsrch/openULS0203044S.do\">칠레</a>, <a class=\"cntyTab\" href=\"/clip/prlstclsfsrch/openULS0203050S.do\">호주</a>, <a class=\"btn_calendar\" href=\"#\" tabindex=\"-1\"><span>달력</span></a>]\n",
            "\n",
            "전체\n",
            "/clip/prlstclsfsrch/openULS0203048S.do\n",
            "미국\n",
            "/clip/prlstclsfsrch/openULS0203013S.do\n",
            "유럽연합(EU)\n",
            "/clip/prlstclsfsrch/openULS0203017S.do\n",
            "중국\n",
            "/clip/prlstclsfsrch/openULS0203023S.do\n",
            "일본\n",
            "/clip/prlstclsfsrch/openULS0203020S.do\n",
            "대만\n",
            "/clip/prlstclsfsrch/openULS0203034S.do\n",
            "칠레\n",
            "/clip/prlstclsfsrch/openULS0203044S.do\n",
            "호주\n",
            "/clip/prlstclsfsrch/openULS0203050S.do\n",
            "달력\n",
            "#\n"
          ],
          "name": "stdout"
        }
      ]
    },
    {
      "cell_type": "code",
      "metadata": {
        "id": "KljMgOmubtvA",
        "colab_type": "code",
        "colab": {
          "base_uri": "https://localhost:8080/",
          "height": 577
        },
        "outputId": "4aed32c1-6c3a-4b64-8221-3da50c1d027c"
      },
      "source": [
        "#extract sample\n",
        "data = {\n",
        "        'srchSrwr':'1'\n",
        "        }\n",
        "res = getPost(URL = 'https://unipass.customs.go.kr/clip/prlstclsfsrch/openULS0203017S.do', data=data)\n",
        "print('>>>')\n",
        "#print(res.text)\n",
        "soup = getSoup(res)\n",
        "\n",
        "#ULS0203017S_T1_table1 > tbody > tr.even.selectedon > td.ellipsis.hlzone3.textLeft > a.dtlInfo.org\n",
        "table = soup.find('table', {'class':'table'})\n",
        "print(table)\n",
        "print()\n",
        "tbody = table.find('tbody')\n",
        "print(tbody)\n"
      ],
      "execution_count": 116,
      "outputs": [
        {
          "output_type": "stream",
          "text": [
            "/usr/local/lib/python3.6/dist-packages/urllib3/connectionpool.py:847: InsecureRequestWarning: Unverified HTTPS request is being made. Adding certificate verification is strongly advised. See: https://urllib3.readthedocs.io/en/latest/advanced-usage.html#ssl-warnings\n",
            "  InsecureRequestWarning)\n"
          ],
          "name": "stderr"
        },
        {
          "output_type": "stream",
          "text": [
            ">>>\n",
            "<table class=\"table\" id=\"ULS0203017S_T1_table1\">\n",
            "\t\t\t\t\t\t\t<caption>\n",
            "\t\t\t\t\t\t\t\t<strong>외국사례-유럽연합(EU) 조회결과</strong>\n",
            "\t\t\t\t\t\t\t\t<p>조회결과 항목 : 국가, 시행일자, 참조번호, 결정세번, 이미지건수, 물품설명</p>\n",
            "\t\t\t\t\t\t\t</caption>\n",
            "\t\t\t\t\t\t\t<colgroup>\n",
            "\t\t\t\t\t\t\t\t<col style=\"width:8%\"/>\n",
            "\t\t\t\t\t\t\t\t<col style=\"width:8%\"/>\n",
            "\t\t\t\t\t\t\t\t<col style=\"width:10%\"/>\n",
            "\t\t\t\t\t\t\t\t<col style=\"width:8%\"/>\n",
            "\t\t\t\t\t\t\t\t<col style=\"width:8%\"/>\n",
            "\t\t\t\t\t\t\t\t<col/>\n",
            "\t\t\t\t\t\t\t</colgroup>\n",
            "\t\t\t\t\t\t\t<thead>\n",
            "\t\t\t\t\t\t\t\t<tr class=\"header\">\n",
            "\t\t\t\t\t\t\t\t\t<th scope=\"col\">국가</th>\n",
            "\t\t\t\t\t\t\t\t\t<th data-sort=\"ENFR_DT\" scope=\"col\">시행일자</th>\n",
            "\t\t\t\t\t\t\t\t\t<th data-sort=\"REFF_NO_NM\" scope=\"col\">참조번호</th>\n",
            "\t\t\t\t\t\t\t\t\t<th data-sort=\"RFIN_DTRM_HS_SGN_CN\" scope=\"col\">결정세번</th>\n",
            "\t\t\t\t\t\t\t\t\t<th data-sort=\"IMGE_CNT\" scope=\"col\">이미지건수</th>\n",
            "\t\t\t\t\t\t\t\t\t<th scope=\"col\">물품설명</th>\n",
            "\t\t\t\t\t\t\t\t</tr>\n",
            "\t\t\t\t\t\t\t</thead>\n",
            "\t\t\t\t\t\t\t<tbody></tbody>\n",
            "\t\t\t\t\t\t</table>\n",
            "\n",
            "<tbody></tbody>\n"
          ],
          "name": "stdout"
        }
      ]
    },
    {
      "cell_type": "code",
      "metadata": {
        "id": "2795itwXp3r-",
        "colab_type": "code",
        "colab": {}
      },
      "source": [
        ""
      ],
      "execution_count": 0,
      "outputs": []
    }
  ]
}