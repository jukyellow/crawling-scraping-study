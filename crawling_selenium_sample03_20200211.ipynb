{
 "cells": [
  {
   "cell_type": "code",
   "execution_count": 1,
   "metadata": {},
   "outputs": [
    {
     "name": "stdout",
     "output_type": "stream",
     "text": [
      "Collecting selenium\n",
      "  Downloading https://files.pythonhosted.org/packages/80/d6/4294f0b4bce4de0abf13e17190289f9d0613b0a44e5dd6a7f5ca98459853/selenium-3.141.0-py2.py3-none-any.whl (904kB)\n",
      "Requirement already satisfied: urllib3 in c:\\programdata\\anaconda3\\lib\\site-packages (from selenium) (1.24.1)\n",
      "Installing collected packages: selenium\n",
      "Successfully installed selenium-3.141.0\n"
     ]
    },
    {
     "name": "stderr",
     "output_type": "stream",
     "text": [
      "WARNING: You are using pip version 19.1.1, however version 20.0.2 is available.\n",
      "You should consider upgrading via the 'python -m pip install --upgrade pip' command.\n"
     ]
    }
   ],
   "source": [
    "#참고: https://beomi.github.io/2017/02/27/HowToMakeWebCrawler-With-Selenium/\n",
    "\n",
    "!pip install selenium\n",
    "\n",
    "from selenium import webdriver"
   ]
  },
  {
   "cell_type": "code",
   "execution_count": 2,
   "metadata": {},
   "outputs": [],
   "source": [
    "#1. 크롬버전확인: chrome://version/\n",
    "#2. 버전별 드라이버 다운로드 : https://sites.google.com/a/chromium.org/chromedriver/downloads\n",
    "\n",
    "#chrome의 경우 | 아까 받은 chromedriver의 위치를 지정해준다.\n",
    "driver = webdriver.Chrome('./chromedriver.exe')"
   ]
  },
  {
   "cell_type": "code",
   "execution_count": 16,
   "metadata": {},
   "outputs": [],
   "source": [
    "driver.implicitly_wait(3)    \n",
    "driver.get('https://unipass.customs.go.kr/clip/index.do')"
   ]
  },
  {
   "cell_type": "code",
   "execution_count": 17,
   "metadata": {},
   "outputs": [],
   "source": [
    "driver.implicitly_wait(5)   \n",
    "# 링크이동\n",
    "driver.find_element_by_xpath('//*[@id=\"TOPMENU_LNK_M_ULS0200000000\"]').click()"
   ]
  },
  {
   "cell_type": "code",
   "execution_count": 18,
   "metadata": {},
   "outputs": [],
   "source": [
    "driver.implicitly_wait(3)   \n",
    "# 링크이동\n",
    "driver.find_element_by_xpath('//*[@id=\"LEFTMENU_LNK_M_ULS0807030052\"]').click()"
   ]
  },
  {
   "cell_type": "code",
   "execution_count": 19,
   "metadata": {},
   "outputs": [],
   "source": [
    "driver.implicitly_wait(3)   \n",
    "# 링크이동\n",
    "driver.find_element_by_xpath('//*[@id=\"mainarea\"]/div/ul/li[3]/a').click()"
   ]
  },
  {
   "cell_type": "code",
   "execution_count": 24,
   "metadata": {},
   "outputs": [],
   "source": [
    "#변수값 입력\n",
    "driver.find_element_by_name('srchDtrmHsSgn').send_keys('1')\n",
    "\n",
    "# 조회 버튼을 눌러주자.\n",
    "driver.find_element_by_xpath('//*[@id=\"iSrchCond\"]/div[1]/footer/button').click()"
   ]
  },
  {
   "cell_type": "code",
   "execution_count": 25,
   "metadata": {},
   "outputs": [],
   "source": [
    "#driver.implicitly_wait(3)\n",
    "# url에 접근한다.\n",
    "#driver.get('https://google.com')\n",
    "#driver.get('https://nid.naver.com/nidlogin.login')\n",
    "#driver.get('https://unipass.customs.go.kr/clip/prlstclsfsrch/openULS0203017S.do')\n",
    "html = driver.page_source"
   ]
  },
  {
   "cell_type": "code",
   "execution_count": 27,
   "metadata": {},
   "outputs": [
    {
     "name": "stdout",
     "output_type": "stream",
     "text": [
      "<tbody><tr class=\"selectedon\">   <td class=\"ellipsis\" title=\"스페인\">스페인</td>       <td class=\"ellipsis\" data-format=\"date\" title=\"20190927\">2019-09-27</td>      <td class=\"ellipsis hlzone1\" title=\"ESBTIESBTI2019SOL618\">    <a class=\"dtlInfo\" href=\"#\">ESBTIESBTI2019SOL618</a>   </td>   <td class=\"ellipsis hlzone2\" title=\"1515904000\"><span class=\"highlight\" style=\"float: none;\">1</span>5<span class=\"highlight\" style=\"float: none;\">1</span>5904000</td>   <td class=\"ellipsis\" title=\"0\">0</td>   <td class=\"ellipsis hlzone3 textLeft\">    <a class=\"dtlInfo org\" href=\"#\" style=\"display: inline;\" title=\"Aceite de karonja en bruto, fluido y sin modificar químicamente. El producto se utiliza en la fabricación de aceites, mojantes y coadyuvantes usados en formulados de la industria agrícola. Según declaraciones del solicitante el producto es aceite de karonja. El producto se presenta en bidones de plástico con un peso de 195 kg netos, altura de 88 cm y base circular de 29 cm.\">Aceite de karonja en bruto, fluido y sin modificar químicamente. El producto se utiliza en la fabricación de aceites, mojantes y coadyuvantes usados en formulados de la industria agrícola. Según declaraciones del solicitante el producto es aceite de karonja. El producto se presenta en bidones de plástico con un peso de 195 kg netos, altura de 88 cm y base circular de 29 cm.</a>    <a class=\"dtlInfo eng\" href=\"#\" style=\"display: none;\" title=\"Raw karonja oil, fluid and chemically unmodified. The product is used in the manufacture of oils, wetting agents and adjuvants used in formulations of the agricultural industry. According to the applicant's statements, the product is karonja oil. The product is presented in plastic drums with a weight of 195 kg net, height of 88 cm and circular base of 29 cm.\">Raw karonja oil, fluid and chemically unmodified. The product is used in the manufacture of oils, wetting agents and adjuvants used in formulations of the agricultural industry. According to the applicant's statements, the product is karonja oil. The product is presented in plastic drums with a weight of 195 kg net, height of 88 cm and circular base of 29 cm.</a>    <a class=\"dtlInfo kor\" href=\"#\" style=\"display: none;\" title=\"유동적이고 화학적으로 변경되지 않은 원료 그대로의 karonja 기름. 물품은 애그리컬쳐 인터스트리의 배합에서 이용된 기름, 습윤제 및 보조제의 제조에서 이용됩니다. 신청자의 스테이트먼트에 따르면, 물품은 karonja 기름입니다. 물품은 195 kg 네트의 중량, 88 cm의 높이 및 29 cm의 원형의 염기와 플라스틱 드럼에서 제시됩니다.\">유동적이고 화학적으로 변경되지 않은 원료 그대로의 karonja 기름. 물품은 애그리컬쳐 인터스트리의 배합에서 이용된 기름, 습윤제 및 보조제의 제조에서 이용됩니다. 신청자의 스테이트먼트에 따르면, 물품은 karonja 기름입니다. 물품은 195 kg 네트의 중량, 88 cm의 높이 및 29 cm의 원형의 염기와 플라스틱 드럼에서 제시됩니다.</a>   </td>  </tr><tr class=\"even\">   <td class=\"ellipsis\" title=\"폴란드\">폴란드</td>       <td class=\"ellipsis\" data-format=\"date\" title=\"20190927\">2019-09-27</td>      <td class=\"ellipsis hlzone1\" title=\"PLBTIWIT2019001410\">    <a class=\"dtlInfo\" href=\"#\">PLBTIWIT-2019-001410</a>   </td>   <td class=\"ellipsis hlzone2\" title=\"1806907010\"><span class=\"highlight\" style=\"float: none;\">1</span>8069070<span class=\"highlight\" style=\"float: none;\">1</span>0</td>   <td class=\"ellipsis\" title=\"0\">0</td>   <td class=\"ellipsis hlzone3 textLeft\">    <a class=\"dtlInfo org\" href=\"#\" style=\"display: inline;\" title=\"Produkt w proszku przeznaczony do sporządzania napoju o smaku czekoladowym, zawierający w składzie m.in.: kakao, cukier kokosowy, kawę zbożową rozpuszczalną. Produkt prezentowany w opakowaniu jednostkowym, o zawartości netto 100 g. Sposób przygotowania: dwie łyżeczki produktu zalać gorącą wodą, mlekiem lub napojem roślinnym (20 ml), wymieszać do powstania kremowej konsystencji.\">Produkt w proszku przeznaczony do sporządzania napoju o smaku czekoladowym, zawierający w składzie m.in.: kakao, cukier kokosowy, kawę zbożową rozpuszczalną. Produkt prezentowany w opakowaniu jednostkowym, o zawartości netto 100 g. Sposób przygotowania: dwie łyżeczki produktu zalać gorącą wodą, mlekiem lub napojem roślinnym (20 ml), wymieszać do powstania kremowej konsystencji.</a>    <a class=\"dtlInfo eng\" href=\"#\" style=\"display: none;\" title=\"A powder product intended for the preparation of a chocolate flavored drink, containing, among others, cocoa, coconut sugar, soluble coffee grains. The product is presented in a unit package, with a net content of 100 g. Preparation: Pour two teaspoons of the product into hot water, milk or a vegetable drink (20 ml), mix until a creamy consistency.\">A powder product intended for the preparation of a chocolate flavored drink, containing, among others, cocoa, coconut sugar, soluble coffee grains. The product is presented in a unit package, with a net content of 100 g. Preparation: Pour two teaspoons of the product into hot water, milk or a vegetable drink (20 ml), mix until a creamy consistency.</a>    <a class=\"dtlInfo kor\" href=\"#\" style=\"display: none;\" title=\"others 중에 코코아를 포함하면서, 초콜릿의 향미 음료을 조제품을 위해 고안된 분말 제품, 코코넛  당류, 녹는 커피 곡물. 물품은 100 g의 실중량으로, 단위 패키지에서 제시됩니다. 조제품 : 가온 물, 우유로의 물품 또는 야채 음료 (20 ml), 크림성 일관성까지 혼합의 Pour 두 티스푼.\">others 중에 코코아를 포함하면서, 초콜릿의 향미 음료을 조제품을 위해 고안된 분말 제품, 코코넛  당류, 녹는 커피 곡물. 물품은 100 g의 실중량으로, 단위 패키지에서 제시됩니다. 조제품 : 가온 물, 우유로의 물품 또는 야채 음료 (20 ml), 크림성 일관성까지 혼합의 Pour 두 티스푼.</a>   </td>  </tr><tr>   <td class=\"ellipsis\" title=\"스페인\">스페인</td>       <td class=\"ellipsis\" data-format=\"date\" title=\"20190927\">2019-09-27</td>      <td class=\"ellipsis hlzone1\" title=\"ESBTIESBTI2019SOL788\">    <a class=\"dtlInfo\" href=\"#\">ESBTIESBTI2019SOL788</a>   </td>   <td class=\"ellipsis hlzone2\" title=\"1901909990\"><span class=\"highlight\" style=\"float: none;\">1</span>90<span class=\"highlight\" style=\"float: none;\">1</span>909990</td>   <td class=\"ellipsis\" title=\"1\">1</td>   <td class=\"ellipsis hlzone3 textLeft\">    <a class=\"dtlInfo org\" href=\"#\" style=\"display: inline;\" title=\"Preparación alimenticia en forma de polvo blanco amarillento a base de leche entera en polvo (97 %) y grasa vegetal (3 %). La materia grasa de la leche es del 26 %. Se presenta en grandes bolsas o en sacos de 25 kg. Se usa para la alimentación humana. Leche entera en polvo: 97% y 3% de grasa vegetal. No contiene lactosuero, aceite de girasol, queso fundido en ninguna variante, caseinato, fosfatodisódico ni ácido láctico.\">Preparación alimenticia en forma de polvo blanco amarillento a base de leche entera en polvo (97 %) y grasa vegetal (3 %). La materia grasa de la leche es del 26 %. Se presenta en grandes bolsas o en sacos de 25 kg. Se usa para la alimentación humana. Leche entera en polvo: 97% y 3% de grasa vegetal. No contiene lactosuero, aceite de girasol, queso fundido en ninguna variante, caseinato, fosfatodisódico ni ácido láctico.</a>    <a class=\"dtlInfo eng\" href=\"#\" style=\"display: none;\" title=\"Food preparation in the form of yellowish white powder based on whole milk powder (97%) and vegetable fat (3%). The fat in milk is 26%. It comes in large bags or in 25 kg bags. It is used for human food. Whole milk powder: 97% and 3% vegetable fat. It does not contain whey, sunflower oil, melted cheese in any variant, caseinate, phosphatodium sodium or lactic acid.\">Food preparation in the form of yellowish white powder based on whole milk powder (97%) and vegetable fat (3%). The fat in milk is 26%. It comes in large bags or in 25 kg bags. It is used for human food. Whole milk powder: 97% and 3% vegetable fat. It does not contain whey, sunflower oil, melted cheese in any variant, caseinate, phosphatodium sodium or lactic acid.</a>    <a class=\"dtlInfo kor\" href=\"#\" style=\"display: none;\" title=\"전지분유 (97%)와 식물성 지방 (3%)를 기반으로 하여 황백색 분말 형태의 조제식료품. 우유에서 지방은 26%입니다. 그것은 큰 백에서 또는 25 kg 백에서 옵니다. 그것은 인간 식품을 위해 이용됩니다. 전지분유 : 97%와 3% 식물성 지방. 그것은 유청, 해바라기 기름, 임의의 변형체에서 용융된 치즈, 카세인산염, phosphatodium 나트륨 또는 젖산  를 포함하지 않습니다.\">전지분유 (97%)와 식물성 지방 (3%)를 기반으로 하여 황백색 분말 형태의 조제식료품. 우유에서 지방은 26%입니다. 그것은 큰 백에서 또는 25 kg 백에서 옵니다. 그것은 인간 식품을 위해 이용됩니다. 전지분유 : 97%와 3% 식물성 지방. 그것은 유청, 해바라기 기름, 임의의 변형체에서 용융된 치즈, 카세인산염, phosphatodium 나트륨 또는 젖산  를 포함하지 않습니다.</a>   </td>  </tr><tr class=\"even\">   <td class=\"ellipsis\" title=\"폴란드\">폴란드</td>       <td class=\"ellipsis\" data-format=\"date\" title=\"20190927\">2019-09-27</td>      <td class=\"ellipsis hlzone1\" title=\"PLBTIWIT2019001409\">    <a class=\"dtlInfo\" href=\"#\">PLBTIWIT-2019-001409</a>   </td>   <td class=\"ellipsis hlzone2\" title=\"1806907010\"><span class=\"highlight\" style=\"float: none;\">1</span>8069070<span class=\"highlight\" style=\"float: none;\">1</span>0</td>   <td class=\"ellipsis\" title=\"0\">0</td>   <td class=\"ellipsis hlzone3 textLeft\">    <a class=\"dtlInfo org\" href=\"#\" style=\"display: inline;\" title=\"Produkt w proszku przeznaczony do sporządzania napoju o smaku czekoladowym, zawierający w składzie m.in.: kakao, cukier kokosowy, guaranę i kardamon. Produkt prezentowany w opakowaniu jednostkowym, o zawartości netto 100 g. Sposób przygotowania: dwie łyżeczki produktu zalać gorącą wodą, mlekiem lub napojem roślinnym (20 ml), wymieszać do powstania kremowej konsystencji.\">Produkt w proszku przeznaczony do sporządzania napoju o smaku czekoladowym, zawierający w składzie m.in.: kakao, cukier kokosowy, guaranę i kardamon. Produkt prezentowany w opakowaniu jednostkowym, o zawartości netto 100 g. Sposób przygotowania: dwie łyżeczki produktu zalać gorącą wodą, mlekiem lub napojem roślinnym (20 ml), wymieszać do powstania kremowej konsystencji.</a>    <a class=\"dtlInfo eng\" href=\"#\" style=\"display: none;\" title=\"Powdered product intended for making a chocolate flavored drink, containing, among others, cocoa, coconut sugar, guarana and cardamom. The product is presented in a unit package, with a net content of 100 g. Preparation: Pour two teaspoons of the product into hot water, milk or a vegetable drink (20 ml), mix until a creamy consistency.\">Powdered product intended for making a chocolate flavored drink, containing, among others, cocoa, coconut sugar, guarana and cardamom. The product is presented in a unit package, with a net content of 100 g. Preparation: Pour two teaspoons of the product into hot water, milk or a vegetable drink (20 ml), mix until a creamy consistency.</a>    <a class=\"dtlInfo kor\" href=\"#\" style=\"display: none;\" title=\"others 중에 코코아, 코코넛  당류, 구아라나 그리고 소두구를 포함하면서, 초콜릿의 향미 음료를 만대서 의도된 분말로 된 물품. 물품은 100 g의 실중량으로, 단위 패키지에서 제시됩니다. 조제품 : 가온 물, 우유로의 물품 또는 야채 음료 (20 ml), 크림성 일관성까지 혼합의 Pour 두 티스푼.\">others 중에 코코아, 코코넛  당류, 구아라나 그리고 소두구를 포함하면서, 초콜릿의 향미 음료를 만대서 의도된 분말로 된 물품. 물품은 100 g의 실중량으로, 단위 패키지에서 제시됩니다. 조제품 : 가온 물, 우유로의 물품 또는 야채 음료 (20 ml), 크림성 일관성까지 혼합의 Pour 두 티스푼.</a>   </td>  </tr><tr>   <td class=\"ellipsis\" title=\"불가리아\">불가리아</td>       <td class=\"ellipsis\" data-format=\"date\" title=\"20190926\">2019-09-26</td>      <td class=\"ellipsis hlzone1\" title=\"BGBTIBG9999201900016\">    <a class=\"dtlInfo\" href=\"#\">BGBTIBG9999-2019-000168</a>   </td>   <td class=\"ellipsis hlzone2\" title=\"18069019\"><span class=\"highlight\" style=\"float: none;\">1</span>80690<span class=\"highlight\" style=\"float: none;\">1</span>9</td>   <td class=\"ellipsis\" title=\"0\">0</td>   <td class=\"ellipsis hlzone3 textLeft\">    <a class=\"dtlInfo org\" href=\"#\" style=\"display: inline;\" title=\"Хранителен продукт, съдържащ какао, представен под формата на шоколадови бонбони (дражета). Представен е в опаковка за продажба на дребно от 50 грама. Подпомага поддържането на нормалния баланс на храносмилателната система и нормалната функция на имунната система. Представени са в опаковка за продажба на дребно от 50 грама. Дражетата съдържат пробиотичен микс, с глазура от млечен шоколад шоколад (захар, какаова маса, какаово масло, мляко, соев лецитин, сорбитан тристеарат и ароматизанти) и не съдържат алкохол.\">Хранителен продукт, съдържащ какао, представен под формата на шоколадови бонбони (дражета). Представен е в опаковка за продажба на дребно от 50 грама. Подпомага поддържането на нормалния баланс на храносмилателната система и нормалната функция на имунната система. Представени са в опаковка за продажба на дребно от 50 грама. Дражетата съдържат пробиотичен микс, с глазура от млечен шоколад шоколад (захар, какаова маса, какаово масло, мляко, соев лецитин, сорбитан тристеарат и ароматизанти) и не съдържат алкохол.</a>    <a class=\"dtlInfo eng\" href=\"#\" style=\"display: none;\" title=\"Food containing cocoa in the form of chocolates. It is presented in retail packaging of 50 grams. Helps maintain the normal balance of the digestive system and the normal function of the immune system. They are presented in retail packaging of 50 grams. Dragees contain a probiotic mix, with milk chocolate chocolate frosting (sugar, cocoa mass, cocoa butter, milk, soy lecithin, sorbitan tristearate and flavors) and contain no alcohol.\">Food containing cocoa in the form of chocolates. It is presented in retail packaging of 50 grams. Helps maintain the normal balance of the digestive system and the normal function of the immune system. They are presented in retail packaging of 50 grams. Dragees contain a probiotic mix, with milk chocolate chocolate frosting (sugar, cocoa mass, cocoa butter, milk, soy lecithin, sorbitan tristearate and flavors) and contain no alcohol.</a>    <a class=\"dtlInfo kor\" href=\"#\" style=\"display: none;\" title=\"쵸콜렛의 형태로 코코아를 포함하는 식품. 그것은 50 그램의 리테일 패키징에서 제시됩니다. 도움은 침지 시스템의 정상 밸런스와 면역계의 보통 기능을 유지합니다. 그들은 50 그램의 리테일 패키징에서 제시됩니다. 당의정은 (당류, 코코아 덩어리, 코코아 버터, 우유, 콩 레시틴, 소르비탄 트라이스테아레이트와 향미) 우유 쵸콜렛 초콜렛 프러스팅으로, 생균제 혼합을 포함하고, 어떤 알코올도 포함하지 않습니다.\">쵸콜렛의 형태로 코코아를 포함하는 식품. 그것은 50 그램의 리테일 패키징에서 제시됩니다. 도움은 침지 시스템의 정상 밸런스와 면역계의 보통 기능을 유지합니다. 그들은 50 그램의 리테일 패키징에서 제시됩니다. 당의정은 (당류, 코코아 덩어리, 코코아 버터, 우유, 콩 레시틴, 소르비탄 트라이스테아레이트와 향미) 우유 쵸콜렛 초콜렛 프러스팅으로, 생균제 혼합을 포함하고, 어떤 알코올도 포함하지 않습니다.</a>   </td>  </tr><tr class=\"even\">   <td class=\"ellipsis\" title=\"영국\">영국</td>       <td class=\"ellipsis\" data-format=\"date\" title=\"20190926\">2019-09-26</td>      <td class=\"ellipsis hlzone1\" title=\"GBBTI504453277\">    <a class=\"dtlInfo\" href=\"#\">GBBTI504453277</a>   </td>   <td class=\"ellipsis hlzone2\" title=\"19041010\"><span class=\"highlight\" style=\"float: none;\">1</span>904<span class=\"highlight\" style=\"float: none;\">1</span>0<span class=\"highlight\" style=\"float: none;\">1</span>0</td>   <td class=\"ellipsis\" title=\"0\">0</td>   <td class=\"ellipsis hlzone3 textLeft\">    <a class=\"dtlInfo org\" href=\"#\" style=\"display: inline;\" title=\"RASBERRY, CASHEW, YOGURT POPCORN SNACK BAR. INGREDIENTS INCLUDE: CASHEW NUTS, RASPBERRYS AND YOGHURT. THESE ARE PREPARED CEREAL LIKE BARS OBTAINED BY THE SWELLING OR ROASTING OF CEREAL PRODUCTS. INDIVIDUALLY WRAPPED. APPROX 15CM IN LENGTH, 5CM IN WIDTH. PACKAGED IN A SQUARE CARDBOARD BOX CONTAINING 5 X 20g BARS. WITH COMMERCIAL ADVERTISING ON BOX\">RASBERRY, CASHEW, YOGURT POPCORN SNACK BAR. INGREDIENTS INCLUDE: CASHEW NUTS, RASPBERRYS AND YOGHURT. THESE ARE PREPARED CEREAL LIKE BARS OBTAINED BY THE SWELLING OR ROASTING OF CEREAL PRODUCTS. INDIVIDUALLY WRAPPED. APPROX 15CM IN LENGTH, 5CM IN WIDTH. PACKAGED IN A SQUARE CARDBOARD BOX CONTAINING 5 X 20g BARS. WITH COMMERCIAL ADVERTISING ON BOX</a>    <a class=\"dtlInfo eng\" href=\"#\" style=\"display: none;\" title=\"RASBERRY, CASHEW, YOGURT POPCORN SNACK BAR. INGREDIENTS INCLUDE: CASHEW NUTS, RASPBERRYS AND YOGHURT. THESE ARE PREPARED CEREAL LIKE BARS OBTAINED BY THE SWELLING OR ROASTING OF CEREAL PRODUCTS. INDIVIDUALLY WRAPPED. APPROX 15CM IN LENGTH, 5CM IN WIDTH. PACKAGED IN A SQUARE CARDBOARD BOX CONTAINING 5 X 20g BARS. WITH COMMERCIAL ADVERTISING ON BOX\">RASBERRY, CASHEW, YOGURT POPCORN SNACK BAR. INGREDIENTS INCLUDE: CASHEW NUTS, RASPBERRYS AND YOGHURT. THESE ARE PREPARED CEREAL LIKE BARS OBTAINED BY THE SWELLING OR ROASTING OF CEREAL PRODUCTS. INDIVIDUALLY WRAPPED. APPROX 15CM IN LENGTH, 5CM IN WIDTH. PACKAGED IN A SQUARE CARDBOARD BOX CONTAINING 5 X 20g BARS. WITH COMMERCIAL ADVERTISING ON BOX</a>    <a class=\"dtlInfo kor\" href=\"#\" style=\"display: none;\" title=\"라즈베리, 캐슈, 요구르트 팝콘 가벼운 식사 BAR. INGREDIENTS는 다음을 포함합니다 : 캐슈넛, RASPBERRYS 및 요구르트. 이것들은 곡물 산물의 팽창 또는 배소에 의해 얻어진 봉과 같은 조제된 곡물입니다. 개별적으로 포장한 것. 길이는 APPROX 15CM, 폭에서 5CM. 상자 위의 상업적인 광고 방송으로 5 X 20g BARS.를 포함하여 평방 판지 상자에서 패키징된 것\">라즈베리, 캐슈, 요구르트 팝콘 가벼운 식사 BAR. INGREDIENTS는 다음을 포함합니다 : 캐슈넛, RASPBERRYS 및 요구르트. 이것들은 곡물 산물의 팽창 또는 배소에 의해 얻어진 봉과 같은 조제된 곡물입니다. 개별적으로 포장한 것. 길이는 APPROX 15CM, 폭에서 5CM. 상자 위의 상업적인 광고 방송으로 5 X 20g BARS.를 포함하여 평방 판지 상자에서 패키징된 것</a>   </td>  </tr><tr>   <td class=\"ellipsis\" title=\"불가리아\">불가리아</td>       <td class=\"ellipsis\" data-format=\"date\" title=\"20190926\">2019-09-26</td>      <td class=\"ellipsis hlzone1\" title=\"BGBTIBG9999201900016\">    <a class=\"dtlInfo\" href=\"#\">BGBTIBG9999-2019-000165</a>   </td>   <td class=\"ellipsis hlzone2\" title=\"1702500000\"><span class=\"highlight\" style=\"float: none;\">1</span>702500000</td>   <td class=\"ellipsis\" title=\"0\">0</td>   <td class=\"ellipsis hlzone3 textLeft\">    <a class=\"dtlInfo org\" href=\"#\" style=\"display: inline;\" title=\"Фруктоза (100%), химически чиста, представена в опаковки от 25 килограма.\">Фруктоза (100%), химически чиста, представена в опаковки от 25 килограма.</a>    <a class=\"dtlInfo eng\" href=\"#\" style=\"display: none;\" title=\"Fructose (100%), chemically pure, presented in packages of 25 kg.\">Fructose (100%), chemically pure, presented in packages of 25 kg.</a>    <a class=\"dtlInfo kor\" href=\"#\" style=\"display: none;\" title=\"25 kg의 패키지에서 제시되는 화학적으로 순수한 과당 (100%).\">25 kg의 패키지에서 제시되는 화학적으로 순수한 과당 (100%).</a>   </td>  </tr><tr class=\"even\">   <td class=\"ellipsis\" title=\"불가리아\">불가리아</td>       <td class=\"ellipsis\" data-format=\"date\" title=\"20190926\">2019-09-26</td>      <td class=\"ellipsis hlzone1\" title=\"BGBTIBG9999201900016\">    <a class=\"dtlInfo\" href=\"#\">BGBTIBG9999-2019-000167</a>   </td>   <td class=\"ellipsis hlzone2\" title=\"18069019\"><span class=\"highlight\" style=\"float: none;\">1</span>80690<span class=\"highlight\" style=\"float: none;\">1</span>9</td>   <td class=\"ellipsis\" title=\"0\">0</td>   <td class=\"ellipsis hlzone3 textLeft\">    <a class=\"dtlInfo org\" href=\"#\" style=\"display: inline;\" title=\"Хранителен продукт, съдържащ какао, представен под формата на шоколадови бонбони (дражета). Представен е в опаковка за продажба на дребно от 50 грама. Подпомагат поддържането на нормалния баланс на храносмилателната система и нормалната функция на имунната система. Представени са в опаковка за продажба на дребно от 50 грама. Дражетата съдържат пробиотичен микс, с глазура от натурален шоколад (какаова маса, какаово масло, соев лецитин, еритритол и стевия) и не съдържат алкохол.\">Хранителен продукт, съдържащ какао, представен под формата на шоколадови бонбони (дражета). Представен е в опаковка за продажба на дребно от 50 грама. Подпомагат поддържането на нормалния баланс на храносмилателната система и нормалната функция на имунната система. Представени са в опаковка за продажба на дребно от 50 грама. Дражетата съдържат пробиотичен микс, с глазура от натурален шоколад (какаова маса, какаово масло, соев лецитин, еритритол и стевия) и не съдържат алкохол.</a>    <a class=\"dtlInfo eng\" href=\"#\" style=\"display: none;\" title=\"Food containing cocoa in the form of chocolates. It is presented in retail packaging of 50 grams. They help maintain the normal balance of the digestive system and the normal function of the immune system. They are presented in retail packaging of 50 grams. The dragees contain a probiotic mix with natural chocolate icing (cocoa mass, cocoa butter, soy lecithin, erythritol and stevia) and contain no alcohol.\">Food containing cocoa in the form of chocolates. It is presented in retail packaging of 50 grams. They help maintain the normal balance of the digestive system and the normal function of the immune system. They are presented in retail packaging of 50 grams. The dragees contain a probiotic mix with natural chocolate icing (cocoa mass, cocoa butter, soy lecithin, erythritol and stevia) and contain no alcohol.</a>    <a class=\"dtlInfo kor\" href=\"#\" style=\"display: none;\" title=\"쵸콜렛의 형태로 코코아를 포함하는 식품. 그것은 50 그램의 리테일 패키징에서 제시됩니다. 그들은 침지 시스템의 정상 밸런스와 면역계의 보통 기능을 유지하는 것을 돕습니다. 그들은 50 그램의 리테일 패키징에서 제시됩니다. 당의정은 (코코아 덩어리, 코코아 버터, 콩 레시틴, 에리트리톨과 스테비아) 천연 쵸콜렛 결빙으로 생균제 혼합을 포함하고, 어떤 알코올도 포함하지 않습니다.\">쵸콜렛의 형태로 코코아를 포함하는 식품. 그것은 50 그램의 리테일 패키징에서 제시됩니다. 그들은 침지 시스템의 정상 밸런스와 면역계의 보통 기능을 유지하는 것을 돕습니다. 그들은 50 그램의 리테일 패키징에서 제시됩니다. 당의정은 (코코아 덩어리, 코코아 버터, 콩 레시틴, 에리트리톨과 스테비아) 천연 쵸콜렛 결빙으로 생균제 혼합을 포함하고, 어떤 알코올도 포함하지 않습니다.</a>   </td>  </tr><tr>   <td class=\"ellipsis\" title=\"영국\">영국</td>       <td class=\"ellipsis\" data-format=\"date\" title=\"20190926\">2019-09-26</td>      <td class=\"ellipsis hlzone1\" title=\"GBBTI504455173\">    <a class=\"dtlInfo\" href=\"#\">GBBTI504455173</a>   </td>   <td class=\"ellipsis hlzone2\" title=\"19041010\"><span class=\"highlight\" style=\"float: none;\">1</span>904<span class=\"highlight\" style=\"float: none;\">1</span>0<span class=\"highlight\" style=\"float: none;\">1</span>0</td>   <td class=\"ellipsis\" title=\"0\">0</td>   <td class=\"ellipsis hlzone3 textLeft\">    <a class=\"dtlInfo org\" href=\"#\" style=\"display: inline;\" title=\"PEANUT AND SUNFLOWER POPCORN SNACK BAR. INGREDIENTS INCLUDE: POPCORN, PEANUTS, CRISP RICE, SUNFLOWER SEEDS AND GRANOLA IN A PEANUT BUTTER YOGHURT COATING. THESE ARE PREPARED CEREAL LIKE BARS OBTAINED BY THE SWELLING OR ROASTING OF CEREAL PRODUCTS. INDIVIDUALLY WRAPPED. APPROX 15CM IN LENGTH, 5CM IN WIDTH PACKAGED IN A SQUARE CARDBOARD BOX CONTAINING 5 X 20g BARS. WITH COMMERCIAL ADVERTISING ON BOX\">PEANUT AND SUNFLOWER POPCORN SNACK BAR. INGREDIENTS INCLUDE: POPCORN, PEANUTS, CRISP RICE, SUNFLOWER SEEDS AND GRANOLA IN A PEANUT BUTTER YOGHURT COATING. THESE ARE PREPARED CEREAL LIKE BARS OBTAINED BY THE SWELLING OR ROASTING OF CEREAL PRODUCTS. INDIVIDUALLY WRAPPED. APPROX 15CM IN LENGTH, 5CM IN WIDTH PACKAGED IN A SQUARE CARDBOARD BOX CONTAINING 5 X 20g BARS. WITH COMMERCIAL ADVERTISING ON BOX</a>    <a class=\"dtlInfo eng\" href=\"#\" style=\"display: none;\" title=\"PEANUT AND SUNFLOWER POPCORN SNACK BAR. INGREDIENTS INCLUDE: POPCORN, PEANUTS, CRISP RICE, SUNFLOWER SEEDS AND GRANOLA IN A PEANUT BUTTER YOGHURT COATING. THESE ARE PREPARED CEREAL LIKE BARS OBTAINED BY THE SWELLING OR ROASTING OF CEREAL PRODUCTS. INDIVIDUALLY WRAPPED. APPROX 15CM IN LENGTH, 5CM IN WIDTH PACKAGED IN A SQUARE CARDBOARD BOX CONTAINING 5 X 20g BARS. WITH COMMERCIAL ADVERTISING ON BOX\">PEANUT AND SUNFLOWER POPCORN SNACK BAR. INGREDIENTS INCLUDE: POPCORN, PEANUTS, CRISP RICE, SUNFLOWER SEEDS AND GRANOLA IN A PEANUT BUTTER YOGHURT COATING. THESE ARE PREPARED CEREAL LIKE BARS OBTAINED BY THE SWELLING OR ROASTING OF CEREAL PRODUCTS. INDIVIDUALLY WRAPPED. APPROX 15CM IN LENGTH, 5CM IN WIDTH PACKAGED IN A SQUARE CARDBOARD BOX CONTAINING 5 X 20g BARS. WITH COMMERCIAL ADVERTISING ON BOX</a>    <a class=\"dtlInfo kor\" href=\"#\" style=\"display: none;\" title=\"피넛 앤드 해바라기 팝콘 가벼운 식사 BAR. INGREDIENTS는 다음을 포함합니다 : 팝콘, 피넛, 바삭바삭한 쌀, 해바리기씨와 피넛 버터 요구르트 코팅에서 그라놀라아. 이것들은 곡물 산물의 팽창 또는 배소에 의해 얻어진 봉과 같은 조제된 곡물입니다. 개별적으로 포장한 것. 길이는 APPROX 15CM, 상자 위의 상업적인 광고 방송으로 5 X 20g BARS.를 포함하여 평방 판지 상자에서 패키징된 폭에서 5CM\">피넛 앤드 해바라기 팝콘 가벼운 식사 BAR. INGREDIENTS는 다음을 포함합니다 : 팝콘, 피넛, 바삭바삭한 쌀, 해바리기씨와 피넛 버터 요구르트 코팅에서 그라놀라아. 이것들은 곡물 산물의 팽창 또는 배소에 의해 얻어진 봉과 같은 조제된 곡물입니다. 개별적으로 포장한 것. 길이는 APPROX 15CM, 상자 위의 상업적인 광고 방송으로 5 X 20g BARS.를 포함하여 평방 판지 상자에서 패키징된 폭에서 5CM</a>   </td>  </tr><tr class=\"even\">   <td class=\"ellipsis\" title=\"영국\">영국</td>       <td class=\"ellipsis\" data-format=\"date\" title=\"20190926\">2019-09-26</td>      <td class=\"ellipsis hlzone1\" title=\"GBBTI504455075\">    <a class=\"dtlInfo\" href=\"#\">GBBTI504455075</a>   </td>   <td class=\"ellipsis hlzone2\" title=\"19059070\"><span class=\"highlight\" style=\"float: none;\">1</span>9059070</td>   <td class=\"ellipsis\" title=\"0\">0</td>   <td class=\"ellipsis hlzone3 textLeft\">    <a class=\"dtlInfo org\" href=\"#\" style=\"display: inline;\" title=\"SALTED CARAMEL FIBRE SNACK BARS WITH WHITE VANILLA FLAVOUR DRIZZLE. THE INDIVIDUAL WRAPPED. BARS ARE SQUARE IN SHAPE AND OF A CAKE CONSISTENCY. PACKAGED IN A SQUARE BROWN BOX CONTAINING 5 X 24G SQUARES. WITH COMMERCIAL ADVERTISING ON BOX\">SALTED CARAMEL FIBRE SNACK BARS WITH WHITE VANILLA FLAVOUR DRIZZLE. THE INDIVIDUAL WRAPPED. BARS ARE SQUARE IN SHAPE AND OF A CAKE CONSISTENCY. PACKAGED IN A SQUARE BROWN BOX CONTAINING 5 X 24G SQUARES. WITH COMMERCIAL ADVERTISING ON BOX</a>    <a class=\"dtlInfo eng\" href=\"#\" style=\"display: none;\" title=\"SALTED CARAMEL FIBRE SNACK BARS WITH WHITE VANILLA FLAVOUR DRIZZLE. THE INDIVIDUAL WRAPPED. BARS ARE SQUARE IN SHAPE AND OF A CAKE CONSISTENCY. PACKAGED IN A SQUARE BROWN BOX CONTAINING 5 X 24G SQUARES. WITH COMMERCIAL ADVERTISING ON BOX\">SALTED CARAMEL FIBRE SNACK BARS WITH WHITE VANILLA FLAVOUR DRIZZLE. THE INDIVIDUAL WRAPPED. BARS ARE SQUARE IN SHAPE AND OF A CAKE CONSISTENCY. PACKAGED IN A SQUARE BROWN BOX CONTAINING 5 X 24G SQUARES. WITH COMMERCIAL ADVERTISING ON BOX</a>    <a class=\"dtlInfo kor\" href=\"#\" style=\"display: none;\" title=\"하얀 바닐라 향미 이슬비와 소금에 절인 캐러멜당 섬유 스낵 바. 개체는 포장했습니다. 봉은 모양에서 그리고 케이크 경도의 평방입니다. 5 X 24G 정사각형을 포함하여 평방 갈색인 상자에서 패키징된 것. 상자 위의 상업적인 광고 방송으로\">하얀 바닐라 향미 이슬비와 소금에 절인 캐러멜당 섬유 스낵 바. 개체는 포장했습니다. 봉은 모양에서 그리고 케이크 경도의 평방입니다. 5 X 24G 정사각형을 포함하여 평방 갈색인 상자에서 패키징된 것. 상자 위의 상업적인 광고 방송으로</a>   </td>  </tr></tbody>\n"
     ]
    }
   ],
   "source": [
    "from bs4 import BeautifulSoup\n",
    "\n",
    "soup = BeautifulSoup(html, 'html5lib') #'html.parser'\n",
    "\n",
    "#ULS0203017S_T1_table1 > tbody > tr.even.selectedon > td.ellipsis.hlzone3.textLeft > a.dtlInfo.org\n",
    "table = soup.find('table', {'class':'table'})\n",
    "#print(table)\n",
    "tbody = table.find('tbody')\n",
    "print(tbody)"
   ]
  },
  {
   "cell_type": "code",
   "execution_count": 54,
   "metadata": {
    "scrolled": false
   },
   "outputs": [
    {
     "name": "stdout",
     "output_type": "stream",
     "text": [
      "1515904000 Raw karonja oil, fluid and chemically unmodified. The product is used in the manufacture of oils, wetting agents and adjuvants used in formulations of the agricultural industry. According to the applicant's statements, the product is karonja oil. The product is presented in plastic drums with a weight of 195 kg net, height of 88 cm and circular base of 29 cm.\n",
      "\n",
      "1806907010 A powder product intended for the preparation of a chocolate flavored drink, containing, among others, cocoa, coconut sugar, soluble coffee grains. The product is presented in a unit package, with a net content of 100 g. Preparation: Pour two teaspoons of the product into hot water, milk or a vegetable drink (20 ml), mix until a creamy consistency.\n",
      "\n",
      "1901909990 Food preparation in the form of yellowish white powder based on whole milk powder (97%) and vegetable fat (3%). The fat in milk is 26%. It comes in large bags or in 25 kg bags. It is used for human food. Whole milk powder: 97% and 3% vegetable fat. It does not contain whey, sunflower oil, melted cheese in any variant, caseinate, phosphatodium sodium or lactic acid.\n",
      "\n",
      "1806907010 Powdered product intended for making a chocolate flavored drink, containing, among others, cocoa, coconut sugar, guarana and cardamom. The product is presented in a unit package, with a net content of 100 g. Preparation: Pour two teaspoons of the product into hot water, milk or a vegetable drink (20 ml), mix until a creamy consistency.\n",
      "\n",
      "18069019 Food containing cocoa in the form of chocolates. It is presented in retail packaging of 50 grams. Helps maintain the normal balance of the digestive system and the normal function of the immune system. They are presented in retail packaging of 50 grams. Dragees contain a probiotic mix, with milk chocolate chocolate frosting (sugar, cocoa mass, cocoa butter, milk, soy lecithin, sorbitan tristearate and flavors) and contain no alcohol.\n",
      "\n",
      "19041010 RASBERRY, CASHEW, YOGURT POPCORN SNACK BAR. INGREDIENTS INCLUDE: CASHEW NUTS, RASPBERRYS AND YOGHURT. THESE ARE PREPARED CEREAL LIKE BARS OBTAINED BY THE SWELLING OR ROASTING OF CEREAL PRODUCTS. INDIVIDUALLY WRAPPED. APPROX 15CM IN LENGTH, 5CM IN WIDTH. PACKAGED IN A SQUARE CARDBOARD BOX CONTAINING 5 X 20g BARS. WITH COMMERCIAL ADVERTISING ON BOX\n",
      "\n",
      "1702500000 Fructose (100%), chemically pure, presented in packages of 25 kg.\n",
      "\n",
      "18069019 Food containing cocoa in the form of chocolates. It is presented in retail packaging of 50 grams. They help maintain the normal balance of the digestive system and the normal function of the immune system. They are presented in retail packaging of 50 grams. The dragees contain a probiotic mix with natural chocolate icing (cocoa mass, cocoa butter, soy lecithin, erythritol and stevia) and contain no alcohol.\n",
      "\n",
      "19041010 PEANUT AND SUNFLOWER POPCORN SNACK BAR. INGREDIENTS INCLUDE: POPCORN, PEANUTS, CRISP RICE, SUNFLOWER SEEDS AND GRANOLA IN A PEANUT BUTTER YOGHURT COATING. THESE ARE PREPARED CEREAL LIKE BARS OBTAINED BY THE SWELLING OR ROASTING OF CEREAL PRODUCTS. INDIVIDUALLY WRAPPED. APPROX 15CM IN LENGTH, 5CM IN WIDTH PACKAGED IN A SQUARE CARDBOARD BOX CONTAINING 5 X 20g BARS. WITH COMMERCIAL ADVERTISING ON BOX\n",
      "\n",
      "19059070 SALTED CARAMEL FIBRE SNACK BARS WITH WHITE VANILLA FLAVOUR DRIZZLE. THE INDIVIDUAL WRAPPED. BARS ARE SQUARE IN SHAPE AND OF A CAKE CONSISTENCY. PACKAGED IN A SQUARE BROWN BOX CONTAINING 5 X 24G SQUARES. WITH COMMERCIAL ADVERTISING ON BOX\n",
      "\n"
     ]
    }
   ],
   "source": [
    "trs = tbody.find_all('tr')\n",
    "for idx, tr in enumerate(trs):\n",
    "    tds = tr.find_all('td')\n",
    "    \n",
    "    hscode = tds[3].text\n",
    "    #gd_org = tds[5].find_all('a')[0].text\n",
    "    gd_eng = tds[5].find_all('a')[1].text\n",
    "    #gd_kor = tds[5].find_all('a')[2].text\n",
    "    print(hscode, gd_eng)\n",
    "    print()\n",
    "    \n",
    "    #print(tds[5].find_all('a'))\n",
    "    #print(tds)\n",
    "    #if (idx>=0): break"
   ]
  }
 ],
 "metadata": {
  "kernelspec": {
   "display_name": "Python 3",
   "language": "python",
   "name": "python3"
  },
  "language_info": {
   "codemirror_mode": {
    "name": "ipython",
    "version": 3
   },
   "file_extension": ".py",
   "mimetype": "text/x-python",
   "name": "python",
   "nbconvert_exporter": "python",
   "pygments_lexer": "ipython3",
   "version": "3.7.1"
  }
 },
 "nbformat": 4,
 "nbformat_minor": 2
}
