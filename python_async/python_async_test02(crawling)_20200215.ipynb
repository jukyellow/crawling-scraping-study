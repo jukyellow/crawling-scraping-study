{
  "nbformat": 4,
  "nbformat_minor": 0,
  "metadata": {
    "colab": {
      "name": "python_async_test02(crawling)_20200215.ipynb",
      "provenance": []
    },
    "kernelspec": {
      "name": "python3",
      "display_name": "Python 3"
    }
  },
  "cells": [
    {
      "cell_type": "code",
      "metadata": {
        "id": "Tc5M6r9rPdkB",
        "colab_type": "code",
        "colab": {
          "base_uri": "https://localhost:8080/",
          "height": 35
        },
        "outputId": "9c0d3d6e-c85e-4f4c-a3ee-24b28849b8c6"
      },
      "source": [
        "#참고 : https://wikidocs.net/21046\n",
        "import requests\n",
        "import asyncio\n",
        "from bs4 import BeautifulSoup\n",
        "import time\n",
        "\n",
        "s = time.time()\n",
        "results = []\n",
        "\n",
        "#---------------------- A 파트 ------------------------\n",
        "async def getpage(url):\n",
        "    req = await loop.run_in_executor(None, requests.get, url)\n",
        "    html = req.text\n",
        "    soup = await loop.run_in_executor(None, BeautifulSoup, html, 'lxml')\n",
        "    return soup\n",
        "#---------------------- B 파트 ------------------------ \n",
        "async def main():\n",
        "    urls = [\"https://wp.me/p9x2W1-x\",\n",
        "            \"https://wp.me/p9x2W1-w\",\n",
        "            \"https://wp.me/p9x2W1-t\",\n",
        "            \"https://wp.me/p9x2W1-q\",\n",
        "            \"https://wp.me/p9x2W1-p\",\n",
        "            \"https://wp.me/p9x2W1-j\",\n",
        "            \"https://wp.me/p9x2W1-h\"]\n",
        "\n",
        "    fts = [asyncio.ensure_future(getpage(u)) for u in urls]\n",
        "    r = await asyncio.gather(*fts)\n",
        "    global results\n",
        "    results = r\n",
        "\n",
        "#---------------------- C 파트 ------------------------\n",
        "loop = asyncio.get_event_loop()\n",
        "loop.run_until_complete(main())\n",
        "loop.close\n",
        "e = time.time()\n",
        "\n",
        "print(\"{0:.2f}초 걸렸습니다\".format(e - s))\n",
        "#print(results)\n",
        "\n",
        "#결과\n",
        "#0.88초 걸렸습니다"
      ],
      "execution_count": 6,
      "outputs": [
        {
          "output_type": "stream",
          "text": [
            "0.60초 걸렸습니다\n"
          ],
          "name": "stdout"
        }
      ]
    },
    {
      "cell_type": "code",
      "metadata": {
        "id": "dAXWe5fcW40a",
        "colab_type": "code",
        "colab": {
          "base_uri": "https://localhost:8080/",
          "height": 469
        },
        "outputId": "856633c9-0629-4c87-d346-e8bd1edc38a4"
      },
      "source": [
        "!pip install aiohttp"
      ],
      "execution_count": 2,
      "outputs": [
        {
          "output_type": "stream",
          "text": [
            "Collecting aiohttp\n",
            "\u001b[?25l  Downloading https://files.pythonhosted.org/packages/7c/39/7eb5f98d24904e0f6d3edb505d4aa60e3ef83c0a58d6fe18244a51757247/aiohttp-3.6.2-cp36-cp36m-manylinux1_x86_64.whl (1.2MB)\n",
            "\u001b[K     |████████████████████████████████| 1.2MB 3.5MB/s \n",
            "\u001b[?25hCollecting multidict<5.0,>=4.5\n",
            "\u001b[?25l  Downloading https://files.pythonhosted.org/packages/06/5a/d423c846bb839105143d4cd90da19d0f3fc972c51be651f92ac419a20698/multidict-4.7.4-cp36-cp36m-manylinux1_x86_64.whl (147kB)\n",
            "\u001b[K     |████████████████████████████████| 153kB 21.2MB/s \n",
            "\u001b[?25hRequirement already satisfied: chardet<4.0,>=2.0 in /usr/local/lib/python3.6/dist-packages (from aiohttp) (3.0.4)\n",
            "Collecting async-timeout<4.0,>=3.0\n",
            "  Downloading https://files.pythonhosted.org/packages/e1/1e/5a4441be21b0726c4464f3f23c8b19628372f606755a9d2e46c187e65ec4/async_timeout-3.0.1-py3-none-any.whl\n",
            "Collecting idna-ssl>=1.0; python_version < \"3.7\"\n",
            "  Downloading https://files.pythonhosted.org/packages/46/03/07c4894aae38b0de52b52586b24bf189bb83e4ddabfe2e2c8f2419eec6f4/idna-ssl-1.1.0.tar.gz\n",
            "Collecting yarl<2.0,>=1.0\n",
            "\u001b[?25l  Downloading https://files.pythonhosted.org/packages/95/8f/0209fc5d975f839344c33c822ff2f7ef80f6b1e984673a5a68f960bfa583/yarl-1.4.2-cp36-cp36m-manylinux1_x86_64.whl (252kB)\n",
            "\u001b[K     |████████████████████████████████| 256kB 18.4MB/s \n",
            "\u001b[?25hRequirement already satisfied: typing-extensions>=3.6.5; python_version < \"3.7\" in /usr/local/lib/python3.6/dist-packages (from aiohttp) (3.6.6)\n",
            "Requirement already satisfied: attrs>=17.3.0 in /usr/local/lib/python3.6/dist-packages (from aiohttp) (19.3.0)\n",
            "Requirement already satisfied: idna>=2.0 in /usr/local/lib/python3.6/dist-packages (from idna-ssl>=1.0; python_version < \"3.7\"->aiohttp) (2.8)\n",
            "Building wheels for collected packages: idna-ssl\n",
            "  Building wheel for idna-ssl (setup.py) ... \u001b[?25l\u001b[?25hdone\n",
            "  Created wheel for idna-ssl: filename=idna_ssl-1.1.0-cp36-none-any.whl size=3162 sha256=c56fcb4ff66be3c1edc55394f8150f4ef8cbe621187c1e9dd760a1b94174c314\n",
            "  Stored in directory: /root/.cache/pip/wheels/d3/00/b3/32d613e19e08a739751dd6bf998cfed277728f8b2127ad4eb7\n",
            "Successfully built idna-ssl\n",
            "Installing collected packages: multidict, async-timeout, idna-ssl, yarl, aiohttp\n",
            "Successfully installed aiohttp-3.6.2 async-timeout-3.0.1 idna-ssl-1.1.0 multidict-4.7.4 yarl-1.4.2\n"
          ],
          "name": "stdout"
        }
      ]
    },
    {
      "cell_type": "code",
      "metadata": {
        "id": "FECcoHszWr_t",
        "colab_type": "code",
        "colab": {
          "base_uri": "https://localhost:8080/",
          "height": 163
        },
        "outputId": "e3e5d966-67d8-4bd5-d76a-e746444706c4"
      },
      "source": [
        "#https://mingrammer.com/translation-asynchronous-python/\n",
        "import asyncio\n",
        "import aiohttp\n",
        "\n",
        "urls = ['http://www.google.com', 'http://www.yandex.ru', 'http://www.python.org']\n",
        "\n",
        "async def call_url(url):\n",
        "    print('Starting {}'.format(url))\n",
        "    response = await aiohttp.get(url)\n",
        "    data = await response.text()\n",
        "    print('{}: {} bytes: {}'.format(url, len(data), data))\n",
        "    return data\n",
        "\n",
        "futures = [call_url(url) for url in urls]\n",
        "\n",
        "loop = asyncio.get_event_loop()\n",
        "loop.run_until_complete(asyncio.wait(futures))\n",
        "#loop.close()"
      ],
      "execution_count": 3,
      "outputs": [
        {
          "output_type": "stream",
          "text": [
            "Starting http://www.yandex.ru\n",
            "Starting http://www.python.org\n",
            "Starting http://www.google.com\n"
          ],
          "name": "stdout"
        },
        {
          "output_type": "execute_result",
          "data": {
            "text/plain": [
              "({<Task finished coro=<call_url() done, defined at <ipython-input-3-60e64a075d1b>:6> exception=AttributeError(\"module 'aiohttp' has no attribute 'get'\",)>,\n",
              "  <Task finished coro=<call_url() done, defined at <ipython-input-3-60e64a075d1b>:6> exception=AttributeError(\"module 'aiohttp' has no attribute 'get'\",)>,\n",
              "  <Task finished coro=<call_url() done, defined at <ipython-input-3-60e64a075d1b>:6> exception=AttributeError(\"module 'aiohttp' has no attribute 'get'\",)>},\n",
              " set())"
            ]
          },
          "metadata": {
            "tags": []
          },
          "execution_count": 3
        }
      ]
    }
  ]
}