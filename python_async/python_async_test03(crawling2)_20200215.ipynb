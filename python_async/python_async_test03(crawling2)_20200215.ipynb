{
  "nbformat": 4,
  "nbformat_minor": 0,
  "metadata": {
    "colab": {
      "name": "python_async_test03(crawling2)_20200215.ipynb",
      "provenance": []
    },
    "kernelspec": {
      "name": "python3",
      "display_name": "Python 3"
    }
  },
  "cells": [
    {
      "cell_type": "code",
      "metadata": {
        "id": "uKhhjhGCXtdB",
        "colab_type": "code",
        "colab": {
          "base_uri": "https://localhost:8080/",
          "height": 35
        },
        "outputId": "086660d6-65aa-4246-d22c-1de0d7e9b90b"
      },
      "source": [
        "#https://dojang.io/mod/page/view.php?id=2469\n",
        "\n",
        "# 47.10.1                네이티브 코루틴 만들기\n",
        "# 먼저 asyncio를 사용하려면 다음과 같이 async def로 네이티브 코루틴을 만듭니다\n",
        "# (파이썬에서는 제너레이터 기반의 코루틴과 구분하기 위해 async def로 만든 코루틴은 네이티브 코루틴이라고 합니다).\n",
        "# async def 키워드는 파이썬 3.5 이상부터 사용 가능\n",
        "\n",
        "import asyncio\n",
        " \n",
        "async def hello():    # async def로 네이티브 코루틴을 만듦\n",
        "    print('Hello, world!')\n",
        " \n",
        "loop = asyncio.get_event_loop()     # 이벤트 루프를 얻음\n",
        "loop.run_until_complete(hello())    # hello가 끝날 때까지 기다림\n",
        "#loop.close()                        # 이벤트 루프를 닫음"
      ],
      "execution_count": 1,
      "outputs": [
        {
          "output_type": "stream",
          "text": [
            "Hello, world!\n"
          ],
          "name": "stdout"
        }
      ]
    },
    {
      "cell_type": "code",
      "metadata": {
        "id": "VaMEiuA1YrwM",
        "colab_type": "code",
        "colab": {
          "base_uri": "https://localhost:8080/",
          "height": 53
        },
        "outputId": "8e033db1-0af5-43d1-bd6d-2ef651c1ce61"
      },
      "source": [
        "# 47.10.2                await로 네이티브 코루틴 실행하기\n",
        "# 이번에는 await로 네이티브 코루틴을 실행하는 방법입니다. \n",
        "# 다음과 같이 await 뒤에 코루틴 객체, 퓨처 객체, 태스크 객체를 지정하면 해당 객체가 끝날 때까지 기다린 뒤 결과를 반환합니다. \n",
        "# await는 단어 뜻 그대로 특정 객체가 끝날 때까지 기다립니다.\n",
        "# await 키워드는 파이썬 3.5 이상부터 사용 가능, 3.4에서는 yield from을 사용\n",
        "\n",
        "import asyncio\n",
        " \n",
        "async def add(a, b):\n",
        "    print('add: {0} + {1}'.format(a, b))\n",
        "    await asyncio.sleep(1.0)    # 1초 대기. asyncio.sleep도 네이티브 코루틴\n",
        "    return a + b    # 두 수를 더한 결과 반환\n",
        " \n",
        "async def print_add(a, b):\n",
        "    result = await add(a, b)    # await로 다른 네이티브 코루틴 실행하고 반환값을 변수에 저장\n",
        "    print('print_add: {0} + {1} = {2}'.format(a, b, result))\n",
        " \n",
        "loop = asyncio.get_event_loop()             # 이벤트 루프를 얻음\n",
        "loop.run_until_complete(print_add(1, 2))    # print_add가 끝날 때까지 이벤트 루프를 실행\n",
        "#loop.close()    "
      ],
      "execution_count": 2,
      "outputs": [
        {
          "output_type": "stream",
          "text": [
            "add: 1 + 2\n",
            "print_add: 1 + 2 = 3\n"
          ],
          "name": "stdout"
        }
      ]
    },
    {
      "cell_type": "code",
      "metadata": {
        "id": "pvc2VmLfZG6R",
        "colab_type": "code",
        "colab": {
          "base_uri": "https://localhost:8080/",
          "height": 53
        },
        "outputId": "30bad8fb-e555-4a26-9721-80f84f188859"
      },
      "source": [
        "# 참고 | 퓨처와 태스크\n",
        "# 퓨처(asyncio.Future)는 미래에 할 일을 표현하는 클래스인데 할 일을 취소하거나 상태 확인, 완료 및 결과 설정에 사용합니다.\n",
        "# 태스크(asyncio.Task)는 asyncio.Future의 파생 클래스이며 asyncio.Future의 기능과 실행할 코루틴의 객체를 포함하고 있습니다. \n",
        "# 태스크는 코루틴의 실행을 취소하거나 상태 확인, 완료 및 결과 설정에 사용합니다. \n",
        "\n",
        "# 47.10.5                웹 페이지를 비동기로 가져오기\n",
        "# 그럼 asyncio를 사용해서 비동기로 실행해보겠습니다.\n",
        "\n",
        "from time import time\n",
        "from urllib.request import Request, urlopen\n",
        "import asyncio\n",
        " \n",
        "urls = ['https://www.google.co.kr/search?q=' + i\n",
        "        for i in ['apple', 'pear', 'grape', 'pineapple', 'orange', 'strawberry']]\n",
        " \n",
        "async def fetch(url):\n",
        "    request = Request(url, headers={'User-Agent': 'Mozilla/5.0'})    # UA가 없으면 403 에러 발생\n",
        "    response = await loop.run_in_executor(None, urlopen, request)    # run_in_executor 사용\n",
        "    page = await loop.run_in_executor(None, response.read)           # run in executor 사용\n",
        "    return len(page)\n",
        " \n",
        "async def main():\n",
        "    futures = [asyncio.ensure_future(fetch(url)) for url in urls]\n",
        "                                                           # 태스크(퓨처) 객체를 리스트로 만듦\n",
        "    result = await asyncio.gather(*futures)                # 결과를 한꺼번에 가져옴\n",
        "    print(result)\n",
        " \n",
        "begin = time()\n",
        "loop = asyncio.get_event_loop()          # 이벤트 루프를 얻음\n",
        "loop.run_until_complete(main())          # main이 끝날 때까지 기다림\n",
        "#loop.close()                             # 이벤트 루프를 닫음\n",
        "end = time()\n",
        "print('실행 시간: {0:.3f}초'.format(end - begin))"
      ],
      "execution_count": 3,
      "outputs": [
        {
          "output_type": "stream",
          "text": [
            "[326498, 106418, 140406, 66188, 70423, 135807]\n",
            "실행 시간: 1.170초\n"
          ],
          "name": "stdout"
        }
      ]
    }
  ]
}