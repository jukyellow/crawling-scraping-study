{
  "nbformat": 4,
  "nbformat_minor": 0,
  "metadata": {
    "colab": {
      "name": "crawling_async_test4(semaphore)_20200215.ipynb",
      "provenance": [],
      "collapsed_sections": []
    },
    "kernelspec": {
      "name": "python3",
      "display_name": "Python 3"
    }
  },
  "cells": [
    {
      "cell_type": "code",
      "metadata": {
        "id": "hnzWMpNkwzSE",
        "colab_type": "code",
        "colab": {}
      },
      "source": [
        "#참고1(비동기 크롤링 구조): https://medium.com/@mjhans83/%ED%8C%8C%EC%9D%B4%EC%8D%AC%EC%9C%BC%EB%A1%9C-%ED%81%AC%EB%A1%A4%EB%A7%81-%ED%95%98%EA%B8%B0-2-d643ddafb635\n",
        "#참고2(asyncio.Semaphore) : https://docs.python.org/ko/3/library/asyncio-sync.html\n",
        "#참고3: https://hwangheek.github.io/2019/asynchronous-python/\n",
        "#참고4(Async 메커니즘): https://tech.ssut.me/python-3-play-with-asyncio/"
      ],
      "execution_count": 0,
      "outputs": []
    },
    {
      "cell_type": "code",
      "metadata": {
        "id": "MXphlQEmwJx7",
        "colab_type": "code",
        "colab": {
          "base_uri": "https://localhost:8080/",
          "height": 197
        },
        "outputId": "c72bda1b-7e0b-44b9-faf8-6de63e1eefea"
      },
      "source": [
        "!pip install fake_useragent\n",
        "!pip install aiohttp"
      ],
      "execution_count": 2,
      "outputs": [
        {
          "output_type": "stream",
          "text": [
            "Requirement already satisfied: fake_useragent in /usr/local/lib/python3.6/dist-packages (0.1.11)\n",
            "Requirement already satisfied: aiohttp in /usr/local/lib/python3.6/dist-packages (3.6.2)\n",
            "Requirement already satisfied: yarl<2.0,>=1.0 in /usr/local/lib/python3.6/dist-packages (from aiohttp) (1.4.2)\n",
            "Requirement already satisfied: multidict<5.0,>=4.5 in /usr/local/lib/python3.6/dist-packages (from aiohttp) (4.7.4)\n",
            "Requirement already satisfied: idna-ssl>=1.0; python_version < \"3.7\" in /usr/local/lib/python3.6/dist-packages (from aiohttp) (1.1.0)\n",
            "Requirement already satisfied: chardet<4.0,>=2.0 in /usr/local/lib/python3.6/dist-packages (from aiohttp) (3.0.4)\n",
            "Requirement already satisfied: async-timeout<4.0,>=3.0 in /usr/local/lib/python3.6/dist-packages (from aiohttp) (3.0.1)\n",
            "Requirement already satisfied: attrs>=17.3.0 in /usr/local/lib/python3.6/dist-packages (from aiohttp) (19.3.0)\n",
            "Requirement already satisfied: typing-extensions>=3.6.5; python_version < \"3.7\" in /usr/local/lib/python3.6/dist-packages (from aiohttp) (3.6.6)\n",
            "Requirement already satisfied: idna>=2.0 in /usr/local/lib/python3.6/dist-packages (from yarl<2.0,>=1.0->aiohttp) (2.8)\n"
          ],
          "name": "stdout"
        }
      ]
    },
    {
      "cell_type": "code",
      "metadata": {
        "id": "kRpuuyQ8v9a3",
        "colab_type": "code",
        "colab": {}
      },
      "source": [
        "import asyncio\n",
        "import ast\n",
        "import aiohttp\n",
        "from fake_useragent import UserAgent\n",
        "from bs4 import BeautifulSoup\n",
        "from random import randint\n",
        "import traceback\n",
        "from time import time\n",
        "import re"
      ],
      "execution_count": 0,
      "outputs": []
    },
    {
      "cell_type": "code",
      "metadata": {
        "id": "kvuX_Iatn1jW",
        "colab_type": "code",
        "colab": {}
      },
      "source": [
        "#공유자원(list) 동기화를 위해 lock사용\n",
        "lock = asyncio.Lock()\n",
        "h_list = []\n",
        "g_list = []\n",
        "uri = ''\n",
        "\n",
        "def main():\n",
        "    begin = time()\n",
        "    #비동기 처리를 위해 이벤트루프(스케줄링)를 획득하고 코루틴 객체를 실행\n",
        "    loop = asyncio.get_event_loop()\n",
        "    loop.run_until_complete(fetch_crawling(h_list, g_list))\n",
        "    #loop.close()\n",
        "    end = time()\n",
        "    print('전체 실행시간: {0:.3f}초'.format(end - begin))\n",
        "\n",
        "    begin = time()\n",
        "    if len(h_list) > 0:\n",
        "        h_g_dataframe = createDataFrame() #h_list, g_list\n",
        "        writeCSV(h_g_dataframe, file_name = \"h_g_20200216.csv\")\n",
        "    end = time()\n",
        "    print('파일 저장시간: {0:.3f}초'.format(end - begin))"
      ],
      "execution_count": 0,
      "outputs": []
    },
    {
      "cell_type": "code",
      "metadata": {
        "id": "YdSWI-amfHLf",
        "colab_type": "code",
        "colab": {}
      },
      "source": [
        "#hs prefix 1자리(0~9로 시작함)를 반복수행하는 비동기함수 선언\n",
        "async def fetch_crawling(h_list, g_list):\n",
        "    hs_prefix_list = [0, 1, 2, 3, 4, 5, 6, 7 ,8 ,9] #10개\n",
        "    \n",
        "    #하나의 비동기 요청->대상 Page 획득(몇천개)->해당 Page를 비동기로 실행->하나의 비동기 작업이 끝날때까지 대기필요\n",
        "    for h_prefix in hs_prefix_list:\n",
        "        begin = time()\n",
        "        crawler_semaphore = asyncio.Semaphore(value=1) # hs_prefix 하나당 작업전체를 완료하고 다음번호 실행\n",
        "\n",
        "        req_param = {}\n",
        "        req_param['page'] = 1\n",
        "        await async_crawling_start(h_prefix, crawler_semaphore, req_param)    \n",
        "\n",
        "        end = time()\n",
        "        print('[h_prefix:',h_prefix,'] 실행 시간: {0:.3f}초'.format(end - begin))\n",
        "\n",
        "async def async_crawling_start(h_prefix, semaphore, req_param):\n",
        "    await semaphore.acquire() # lock 획득\n",
        "    print(\"[h_prefix:\", h_prefix, \"] START!\")\n",
        "\n",
        "    try:\n",
        "        res_data = await async_request_post(h_prefix, req_param)\n",
        "\n",
        "        #last_page = res_data['paginationInfo']['lastPageNo']\n",
        "        #totalRecordCount = res_data['paginationInfo']['totalRecordCount']\n",
        "        last_page = 1\n",
        "        totalRecordCount = 1\n",
        "        print(\"total page number:\" + str(last_page) + \", totalRecordCount:\", totalRecordCount)\n",
        "\n",
        "        if last_page > 0: \n",
        "            await append_list(res_data)\n",
        "            await async_page_crawling(h_prefix, req_param, last_page)\n",
        "\n",
        "        await asyncio.sleep(0.05)\n",
        "        print(\"[h_prefix:\", h_prefix, \"] END!\")\n",
        "        semaphore.release()\n",
        "    except RecursionError:\n",
        "        print(\"[{}] RECURSION ERROR (MULTI CRAWLING)\".format(word))\n",
        "        await asyncio.sleep(0.05)\n",
        "        semaphore.release()\n",
        "\n",
        "async def async_request_post(h_prefix, req_param):\n",
        "    await asyncio.sleep(2.0)    # asyncio.sleep도 네이티브 코루틴\n",
        "    print('req_param:', req_param)\n",
        "\n",
        "    ret_val = \"1 /t test\"\n",
        "    #ret_dic['paginationInfo']['lastPageNo'] = \"\"\n",
        "    #ret_dic['paginationInfo']['totalRecordCount'] = \"\"\n",
        "    #ret_dic['uls_over']['itemList'] = \"\"\n",
        "    \n",
        "    return ret_val\n",
        "\n",
        "async def async_page_crawling(h_prefix, req_param, last_page):\n",
        "    if last_page > 1:\n",
        "        print(\"[{} - {}] STARTED\".format(h_prefix, last_page))\n",
        "        req_param[\"page\"] = last_page\n",
        "\n",
        "        res_data = await async_request_post(h_prefix, req_param)\n",
        "        \n",
        "        async with lock: # list에 저장할때는 동기화(순서대로 접근) 유지\n",
        "            await append_list(res_datat)\n",
        "        await async_page_crawling(h_prefix, last_page-1)"
      ],
      "execution_count": 0,
      "outputs": []
    },
    {
      "cell_type": "code",
      "metadata": {
        "id": "fKIFE6t_kJV3",
        "colab_type": "code",
        "colab": {}
      },
      "source": [
        "#response의 모든row를 순회하면서 data저장\n",
        "async def append_list(res): #, h_list, g_list\n",
        "    #last_page = res['paginationInfo']['lastPageNo']\n",
        "    last_page = 0\n",
        "    #totalRecordCount = res['paginationInfo']['totalRecordCount']\n",
        "    #print(\"total page number:\" + str(last_page) + \", totalRecordCount:\", totalRecordCount)\n",
        "\n",
        "    #item_list = res['uls_over']['itemList']\n",
        "    item_list = []\n",
        "\n",
        "    p = re.compile('[0-9]*')\n",
        "    tot_word_cnt = 0\n",
        "    for i in range(len(item_list)):\n",
        "        h_sub_list = p.findall(str(item_list[i]['DTRM_HS_SGN_CN']).strip())\n",
        "        h_code = ''.join(h_sub_list)\n",
        "        h_list.append(h_code[0:10])\n",
        "        gd = str(item_list[i]['ENGL_CMDT_DESC']).strip()\n",
        "        g_list.append(gd)\n",
        "        \n",
        "        w_cnt = len(gd.split(\" \"))\n",
        "        tot_word_cnt += w_cnt\n",
        "    \n",
        "    avg_word_cnt = 0\n",
        "    if(len(item_list)!=0):\n",
        "        avg_word_cnt = tot_word_cnt/len(item_list)\n",
        "    print('len(h_list):', len(h_list))\n",
        "    return last_page, avg_word_cnt\n",
        "\n",
        "def createDataFrame(): #h_list, g_list\n",
        "    import pandas as pd\n",
        "    h_df = pd.DataFrame(h_list)\n",
        "    h_df.columns=['HS']\n",
        "    g_df = pd.DataFrame(g_list)\n",
        "    g_df.columns=['GD']\n",
        "    h_g_df = pd.concat([h_df, g_df],axis=1)\n",
        "\n",
        "    print(h_g_df.head())\n",
        "    print(len(h_g_df))\n",
        "    return h_g_df\n",
        "\n",
        "def writeCSV(dataFrame, file_name, mode='w'):\n",
        "    dataFrame.to_csv(file_name, mode=mode, index=False)\n",
        "    print('export csv success! row:', len(dataFrame))"
      ],
      "execution_count": 0,
      "outputs": []
    },
    {
      "cell_type": "code",
      "metadata": {
        "id": "FRafCDAtw0UK",
        "colab_type": "code",
        "colab": {
          "base_uri": "https://localhost:8080/",
          "height": 1000
        },
        "outputId": "e6259a98-fcd7-446d-f691-bb754d299200"
      },
      "source": [
        "#do main\n",
        "main()"
      ],
      "execution_count": 30,
      "outputs": [
        {
          "output_type": "stream",
          "text": [
            "[h_prefix: 0 ] START!\n",
            "req_param: {'page': 1}\n",
            "total page number:1, totalRecordCount: 1\n",
            "len(h_list): 0\n",
            "[h_prefix: 0 ] END!\n",
            "[h_prefix: 0 ] 실행 시간: 2.056초\n",
            "[h_prefix: 1 ] START!\n",
            "req_param: {'page': 1}\n",
            "total page number:1, totalRecordCount: 1\n",
            "len(h_list): 0\n",
            "[h_prefix: 1 ] END!\n",
            "[h_prefix: 1 ] 실행 시간: 2.053초\n",
            "[h_prefix: 2 ] START!\n",
            "req_param: {'page': 1}\n",
            "total page number:1, totalRecordCount: 1\n",
            "len(h_list): 0\n",
            "[h_prefix: 2 ] END!\n",
            "[h_prefix: 2 ] 실행 시간: 2.053초\n",
            "[h_prefix: 3 ] START!\n",
            "req_param: {'page': 1}\n",
            "total page number:1, totalRecordCount: 1\n",
            "len(h_list): 0\n",
            "[h_prefix: 3 ] END!\n",
            "[h_prefix: 3 ] 실행 시간: 2.054초\n",
            "[h_prefix: 4 ] START!\n",
            "req_param: {'page': 1}\n",
            "total page number:1, totalRecordCount: 1\n",
            "len(h_list): 0\n",
            "[h_prefix: 4 ] END!\n",
            "[h_prefix: 4 ] 실행 시간: 2.053초\n",
            "[h_prefix: 5 ] START!\n",
            "req_param: {'page': 1}\n",
            "total page number:1, totalRecordCount: 1\n",
            "len(h_list): 0\n",
            "[h_prefix: 5 ] END!\n",
            "[h_prefix: 5 ] 실행 시간: 2.053초\n",
            "[h_prefix: 6 ] START!\n",
            "req_param: {'page': 1}\n",
            "total page number:1, totalRecordCount: 1\n",
            "len(h_list): 0\n",
            "[h_prefix: 6 ] END!\n",
            "[h_prefix: 6 ] 실행 시간: 2.053초\n",
            "[h_prefix: 7 ] START!\n",
            "req_param: {'page': 1}\n",
            "total page number:1, totalRecordCount: 1\n",
            "len(h_list): 0\n",
            "[h_prefix: 7 ] END!\n",
            "[h_prefix: 7 ] 실행 시간: 2.053초\n",
            "[h_prefix: 8 ] START!\n",
            "req_param: {'page': 1}\n",
            "total page number:1, totalRecordCount: 1\n",
            "len(h_list): 0\n",
            "[h_prefix: 8 ] END!\n",
            "[h_prefix: 8 ] 실행 시간: 2.053초\n",
            "[h_prefix: 9 ] START!\n",
            "req_param: {'page': 1}\n",
            "total page number:1, totalRecordCount: 1\n",
            "len(h_list): 0\n",
            "[h_prefix: 9 ] END!\n",
            "[h_prefix: 9 ] 실행 시간: 2.053초\n",
            "전체 실행시간: 20.536초\n",
            "파일 저장시간: 0.000초\n"
          ],
          "name": "stdout"
        }
      ]
    }
  ]
}