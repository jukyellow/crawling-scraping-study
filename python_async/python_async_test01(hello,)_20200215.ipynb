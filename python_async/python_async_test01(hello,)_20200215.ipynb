{
  "nbformat": 4,
  "nbformat_minor": 0,
  "metadata": {
    "colab": {
      "name": "python_async_test01(hello,)_20200215.ipynb",
      "provenance": [],
      "collapsed_sections": []
    },
    "kernelspec": {
      "name": "python3",
      "display_name": "Python 3"
    }
  },
  "cells": [
    {
      "cell_type": "code",
      "metadata": {
        "id": "hHn9CcQqQyFs",
        "colab_type": "code",
        "colab": {
          "base_uri": "https://localhost:8080/",
          "height": 53
        },
        "outputId": "7cb30fe6-6cd5-4cbf-dddf-94bccda259ac"
      },
      "source": [
        "#참고: https://soooprmx.com/archives/6882\n",
        "\n",
        "# 비동기 코루틴을 호출하는 방법\n",
        "# 비동기 처리를 쓰는 코드는 다음과 같은 식으로 구성한다.\n",
        "\n",
        "# 비동기로 처리될 루틴을 코루틴으로 정의한다.\n",
        "# 런루프를 생성하고\n",
        "# 런루프에 스케줄링한 다음\n",
        "# 런루프를 돌려 코루틴이 끝나기를 기다린다.\n",
        "\n",
        "import asyncio\n",
        "\n",
        "async def lazy_greet(msg, delay=1):\n",
        "  print('wiat:', delay)\n",
        "  await asyncio.sleep(delay)\n",
        "  print(msg)\n",
        "\n",
        "loop = asyncio.get_event_loop()\n",
        "loop.run_until_complete(lazy_greet(\"hello\", 3))\n",
        "loop.close()"
      ],
      "execution_count": 1,
      "outputs": [
        {
          "output_type": "stream",
          "text": [
            "wiat: 3\n",
            "hello\n"
          ],
          "name": "stdout"
        }
      ]
    },
    {
      "cell_type": "code",
      "metadata": {
        "id": "PD2cn9EeS1Bl",
        "colab_type": "code",
        "colab": {
          "base_uri": "https://localhost:8080/",
          "height": 215
        },
        "outputId": "c2c8cf55-3fa0-45d2-b555-e283a82db982"
      },
      "source": [
        "# 여러 개의 비동기 작업을 스케줄링해보자\n",
        "# 여러개의 코루틴을 한꺼번에 스케줄링하면 위에서 언급한바와 같이 순서대로 실행되면서 \n",
        "# 내부에서 await가 등장하면 다른 코루틴으로 제어권이 넘어간다. \n",
        "# 다음의 예제는 여러 코루틴을 한꺼번에 스케줄링하고 as_completed를 이용해서 하나씩 그 결과를 얻어 처리하는 가장 기본적인 패턴이다. \n",
        "\n",
        "import asyncio\n",
        "import random\n",
        "\n",
        "async def lazy_greet(msg, delay=1):\n",
        "  print(msg, \"will be displayed in\", delay, \"seconds\")\n",
        "  await asyncio.sleep(delay)\n",
        "  return msg.upper()\n",
        "\n",
        "async def main():\n",
        "  messages = ['hello', 'world', 'apple', 'banana', 'cherry']\n",
        "  fts = [asyncio.ensure_future(lazy_greet(m, random.randrange(1, 5))) for m in messages]\n",
        "  for f in asyncio.as_completed(fts):\n",
        "      x = await f\n",
        "      print(x)\n",
        " \n",
        "\n",
        "loop2 = asyncio.get_event_loop()\n",
        "loop2.run_until_complete(main())\n",
        "loop2.close()\n"
      ],
      "execution_count": 1,
      "outputs": [
        {
          "output_type": "stream",
          "text": [
            "hello will be displayed in 1 seconds\n",
            "world will be displayed in 2 seconds\n",
            "apple will be displayed in 1 seconds\n",
            "banana will be displayed in 1 seconds\n",
            "cherry will be displayed in 3 seconds\n",
            "HELLO\n",
            "APPLE\n",
            "BANANA\n",
            "WORLD\n",
            "CHERRY\n",
            "CHERRY\n"
          ],
          "name": "stdout"
        }
      ]
    },
    {
      "cell_type": "code",
      "metadata": {
        "id": "qm5oake8Tvft",
        "colab_type": "code",
        "colab": {
          "base_uri": "https://localhost:8080/",
          "height": 125
        },
        "outputId": "a5dc3d61-be5f-4bc5-8d82-8e383995f90d"
      },
      "source": [
        "# 타임아웃 시점까지 대기하기\n",
        "# concurrent.futures의 Executor.wait() 에 대응하는 것은 asyncio.wait() 이다. \n",
        "# 여기에는 Futures의 시퀀스와 타임아웃 혹은 종료 조건이 넘겨지고, (done, pending)의 집합 짝이 리턴된다. \n",
        "# 중요한 것은 wait 역시 코루틴 함수이며, 따라서 await를 통해서 결과를 받아야 한다는 점이다. \n",
        "\n",
        "import asyncio\n",
        "import random\n",
        "\n",
        "async def lazy_greet(msg, delay=1):\n",
        "    print(f'{msg!r} will be displayed in {delay} seconds.')\n",
        "    await asyncio.sleep(delay)\n",
        "    return msg.upper()\n",
        "\n",
        "async def main():\n",
        "    messages = 'hello world apple banana cherry'.split()\n",
        "    cos = [lazy_greet(m, random.randrange(1, 5)) for m in messages]\n",
        "    (done, pending) = await asyncio.wait(cos, timeout=2)\n",
        "    if pending:\n",
        "        print(\"there is {} tasks not completed\".format(len(pending)))\n",
        "        for f in pending:\n",
        "            f.cancel()\n",
        "    for f in done:\n",
        "        print(await f)\n",
        "\n",
        "#3.7\n",
        "#asyncio.run(main())\n",
        "loop = asyncio.get_event_loop()\n",
        "loop.run_until_complete(main())\n",
        "loop.close()"
      ],
      "execution_count": 1,
      "outputs": [
        {
          "output_type": "stream",
          "text": [
            "'cherry' will be displayed in 3 seconds.\n",
            "'apple' will be displayed in 2 seconds.\n",
            "'banana' will be displayed in 4 seconds.\n",
            "'hello' will be displayed in 4 seconds.\n",
            "'world' will be displayed in 4 seconds.\n",
            "there is 5 tasks not completed\n"
          ],
          "name": "stdout"
        }
      ]
    },
    {
      "cell_type": "code",
      "metadata": {
        "id": "Y7m8-0v6UlmG",
        "colab_type": "code",
        "colab": {
          "base_uri": "https://localhost:8080/",
          "height": 125
        },
        "outputId": "461121c4-0900-489b-9662-7a12979147eb"
      },
      "source": [
        "# 결과만 취합하기\n",
        "# as_completed를 통해서 완료된 코루틴의 결과들을 개별적으로 꺼내는 것 말고 한꺼번에 결과를 취합받는 방법도 있다. \n",
        "# 이는 asyncio.gather()를 이용하는데, 이 함수는 Executor.map() 함수와 비슷하다. 차이가 있다면,\n",
        "\n",
        "# 코루틴 함수이다 (await와 같이 쓰임)\n",
        "# Future의 시퀀스를 인자로 받는게 아니라, 개별 인자들로 받는다.\n",
        "# 위 예제에서 asyncio.as_complete()를 쓰던 것을 asyncio.gather()로 변경했다. \n",
        "# 결과를 출력하는 방식이 바뀔 뿐만 아니라 가장 늦게 끝나는 작업이 끝나야지 한 번에 종료된다.\n",
        "\n",
        "import asyncio\n",
        "import random\n",
        "\n",
        "async def lazy_greet(msg, delay=1):\n",
        "    print(f'{msg!r} will be displayed in {delay} seconds.')\n",
        "    await asyncio.sleep(delay)\n",
        "    return msg.upper()\n",
        "\n",
        "async def main2():\n",
        "    messages = 'hello world apple banana cherry'.split()\n",
        "    cos = [lazy_greet(m, random.randrange(1, 5)) for m in messages]\n",
        "    res = await asyncio.gather(*cos)\n",
        "    print(res)\n",
        "\n",
        "#3.7\n",
        "#asyncio.run(main())\n",
        "loop = asyncio.get_event_loop()\n",
        "loop.run_until_complete(main2())\n",
        "loop.close()"
      ],
      "execution_count": 1,
      "outputs": [
        {
          "output_type": "stream",
          "text": [
            "'world' will be displayed in 2 seconds.\n",
            "'hello' will be displayed in 2 seconds.\n",
            "'apple' will be displayed in 3 seconds.\n",
            "'banana' will be displayed in 3 seconds.\n",
            "'cherry' will be displayed in 2 seconds.\n",
            "['HELLO', 'WORLD', 'APPLE', 'BANANA', 'CHERRY']\n"
          ],
          "name": "stdout"
        }
      ]
    }
  ]
}